{
  "nbformat": 4,
  "nbformat_minor": 0,
  "metadata": {
    "colab": {
      "provenance": [],
      "authorship_tag": "ABX9TyOle8y0pP1BJ5t0WO0rR5ga",
      "include_colab_link": true
    },
    "kernelspec": {
      "name": "python3",
      "display_name": "Python 3"
    },
    "language_info": {
      "name": "python"
    }
  },
  "cells": [
    {
      "cell_type": "markdown",
      "metadata": {
        "id": "view-in-github",
        "colab_type": "text"
      },
      "source": [
        "<a href=\"https://colab.research.google.com/github/Saryace/material-REN225/blob/main/tipos_de_datos.ipynb\" target=\"_parent\"><img src=\"https://colab.research.google.com/assets/colab-badge.svg\" alt=\"Open In Colab\"/></a>"
      ]
    },
    {
      "cell_type": "markdown",
      "source": [
        "# Tipo de datos\n",
        "## Pokemon\n",
        "Pokémon (ポケモン Pokemon?) es una franquicia de medios que originalmente comenzó como un videojuego RPG, pero debido a su popularidad ha logrado expandirse a otros medios de entretenimiento como series de televisión, películas, juegos de cartas, ropa, entre otros, convirtiéndose en una marca que es reconocida en el mercado mundial"
      ],
      "metadata": {
        "id": "new6HFVmPO9G"
      }
    },
    {
      "cell_type": "markdown",
      "source": [
        "Usaremos un dataset entregado en csv para estudiar tipos de datos"
      ],
      "metadata": {
        "id": "dfpZGPBLPhyw"
      }
    },
    {
      "cell_type": "code",
      "execution_count": 2,
      "metadata": {
        "colab": {
          "base_uri": "https://localhost:8080/"
        },
        "collapsed": true,
        "id": "o7wNeRkbNt8j",
        "outputId": "cf600beb-57f1-4dc0-fcbb-10b10552dde4"
      },
      "outputs": [
        {
          "output_type": "stream",
          "name": "stdout",
          "text": [
            "<class 'pandas.core.frame.DataFrame'>\n",
            "RangeIndex: 801 entries, 0 to 800\n",
            "Data columns (total 41 columns):\n",
            " #   Column             Non-Null Count  Dtype  \n",
            "---  ------             --------------  -----  \n",
            " 0   abilities          801 non-null    object \n",
            " 1   against_bug        801 non-null    float64\n",
            " 2   against_dark       801 non-null    float64\n",
            " 3   against_dragon     801 non-null    float64\n",
            " 4   against_electric   801 non-null    float64\n",
            " 5   against_fairy      801 non-null    float64\n",
            " 6   against_fight      801 non-null    float64\n",
            " 7   against_fire       801 non-null    float64\n",
            " 8   against_flying     801 non-null    float64\n",
            " 9   against_ghost      801 non-null    float64\n",
            " 10  against_grass      801 non-null    float64\n",
            " 11  against_ground     801 non-null    float64\n",
            " 12  against_ice        801 non-null    float64\n",
            " 13  against_normal     801 non-null    float64\n",
            " 14  against_poison     801 non-null    float64\n",
            " 15  against_psychic    801 non-null    float64\n",
            " 16  against_rock       801 non-null    float64\n",
            " 17  against_steel      801 non-null    float64\n",
            " 18  against_water      801 non-null    float64\n",
            " 19  attack             801 non-null    int64  \n",
            " 20  base_egg_steps     801 non-null    int64  \n",
            " 21  base_happiness     801 non-null    int64  \n",
            " 22  base_total         801 non-null    int64  \n",
            " 23  capture_rate       801 non-null    object \n",
            " 24  classfication      801 non-null    object \n",
            " 25  defense            801 non-null    int64  \n",
            " 26  experience_growth  801 non-null    int64  \n",
            " 27  height_m           781 non-null    float64\n",
            " 28  hp                 801 non-null    int64  \n",
            " 29  japanese_name      801 non-null    object \n",
            " 30  name               801 non-null    object \n",
            " 31  percentage_male    703 non-null    float64\n",
            " 32  pokedex_number     801 non-null    int64  \n",
            " 33  sp_attack          801 non-null    int64  \n",
            " 34  sp_defense         801 non-null    int64  \n",
            " 35  speed              801 non-null    int64  \n",
            " 36  type1              801 non-null    object \n",
            " 37  type2              417 non-null    object \n",
            " 38  weight_kg          781 non-null    float64\n",
            " 39  generation         801 non-null    int64  \n",
            " 40  is_legendary       801 non-null    int64  \n",
            "dtypes: float64(21), int64(13), object(7)\n",
            "memory usage: 256.7+ KB\n",
            "None\n"
          ]
        }
      ],
      "source": [
        "import pandas as pd\n",
        "\n",
        "# Leemos el dataset de Pokemo\n",
        "datos_pokemon = pd.read_csv(\"pokemon.csv\")\n",
        "\n",
        "# Miramos los datos usando .info\n",
        "print(datos_pokemon.info())  # Estructura general"
      ]
    },
    {
      "cell_type": "code",
      "source": [
        "# Miramos los datos usando .head\n",
        "print(datos_pokemon.head())  # Primeras filas"
      ],
      "metadata": {
        "colab": {
          "base_uri": "https://localhost:8080/"
        },
        "collapsed": true,
        "id": "eYSVPFjCP6W6",
        "outputId": "9b5da731-d5fc-4b60-c1e7-0c5a5a9f05f3"
      },
      "execution_count": 3,
      "outputs": [
        {
          "output_type": "stream",
          "name": "stdout",
          "text": [
            "                     abilities  against_bug  against_dark  against_dragon  \\\n",
            "0  ['Overgrow', 'Chlorophyll']          1.0           1.0             1.0   \n",
            "1  ['Overgrow', 'Chlorophyll']          1.0           1.0             1.0   \n",
            "2  ['Overgrow', 'Chlorophyll']          1.0           1.0             1.0   \n",
            "3     ['Blaze', 'Solar Power']          0.5           1.0             1.0   \n",
            "4     ['Blaze', 'Solar Power']          0.5           1.0             1.0   \n",
            "\n",
            "   against_electric  against_fairy  against_fight  against_fire  \\\n",
            "0               0.5            0.5            0.5           2.0   \n",
            "1               0.5            0.5            0.5           2.0   \n",
            "2               0.5            0.5            0.5           2.0   \n",
            "3               1.0            0.5            1.0           0.5   \n",
            "4               1.0            0.5            1.0           0.5   \n",
            "\n",
            "   against_flying  against_ghost  ...  percentage_male  pokedex_number  \\\n",
            "0             2.0            1.0  ...             88.1               1   \n",
            "1             2.0            1.0  ...             88.1               2   \n",
            "2             2.0            1.0  ...             88.1               3   \n",
            "3             1.0            1.0  ...             88.1               4   \n",
            "4             1.0            1.0  ...             88.1               5   \n",
            "\n",
            "   sp_attack  sp_defense  speed  type1   type2  weight_kg  generation  \\\n",
            "0         65          65     45  grass  poison        6.9           1   \n",
            "1         80          80     60  grass  poison       13.0           1   \n",
            "2        122         120     80  grass  poison      100.0           1   \n",
            "3         60          50     65   fire     NaN        8.5           1   \n",
            "4         80          65     80   fire     NaN       19.0           1   \n",
            "\n",
            "   is_legendary  \n",
            "0             0  \n",
            "1             0  \n",
            "2             0  \n",
            "3             0  \n",
            "4             0  \n",
            "\n",
            "[5 rows x 41 columns]\n"
          ]
        }
      ]
    },
    {
      "cell_type": "markdown",
      "source": [
        "Si una columna es enteramente texto, pandas la almacena como objeto (en lugar de un tipo de cadena específico, como en R).\n",
        "\n",
        "Si una columna tiene tipos mixtos (números + texto), pandas la carga como objeto."
      ],
      "metadata": {
        "id": "z3e9TjwYOstP"
      }
    }
  ]
}