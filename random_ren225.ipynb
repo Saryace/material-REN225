{
  "nbformat": 4,
  "nbformat_minor": 0,
  "metadata": {
    "colab": {
      "provenance": [],
      "include_colab_link": true
    },
    "kernelspec": {
      "name": "python3",
      "display_name": "Python 3"
    },
    "language_info": {
      "name": "python"
    }
  },
  "cells": [
    {
      "cell_type": "markdown",
      "metadata": {
        "id": "view-in-github",
        "colab_type": "text"
      },
      "source": [
        "<a href=\"https://colab.research.google.com/github/Saryace/material-REN225/blob/main/random_ren225.ipynb\" target=\"_parent\"><img src=\"https://colab.research.google.com/assets/colab-badge.svg\" alt=\"Open In Colab\"/></a>"
      ]
    },
    {
      "cell_type": "markdown",
      "source": [
        "# Selección de pares para el curso REN 225-2025\n",
        "\n",
        "1. Vamos a ver algunos conceptos de random (aletoriedad) y funciones en Python para repasar.\n",
        "Primero importamos el módulo random, el cual tiene como argumentos (o parámetros) limite inferior y límite superior."
      ],
      "metadata": {
        "id": "QoFXDGEIFVba"
      }
    },
    {
      "cell_type": "code",
      "source": [
        "import random\n",
        "\n",
        "print(random.randint(1, 55))  # Que pasa cuado corremos este código?\n"
      ],
      "metadata": {
        "colab": {
          "base_uri": "https://localhost:8080/"
        },
        "id": "GXDXyZnkFkUz",
        "outputId": "ffe77e0f-3463-41c8-f239-b3430f951952"
      },
      "execution_count": 5,
      "outputs": [
        {
          "output_type": "stream",
          "name": "stdout",
          "text": [
            "45\n"
          ]
        }
      ]
    },
    {
      "cell_type": "markdown",
      "source": [
        "2. Ahora vamos a agregar la semilla, que nos permite hacer código reproducible"
      ],
      "metadata": {
        "id": "Pv59KzOQKHRC"
      }
    },
    {
      "cell_type": "code",
      "source": [
        "random.seed(1234)\n",
        "print(random.randint(1, 55))  # Que pasa cuado corremos este código?\n"
      ],
      "metadata": {
        "colab": {
          "base_uri": "https://localhost:8080/"
        },
        "outputId": "8f1f32ea-f8f4-4cac-995b-4aac971dd369",
        "id": "Q9yCcu2bKOeY"
      },
      "execution_count": 8,
      "outputs": [
        {
          "output_type": "stream",
          "name": "stdout",
          "text": [
            "50\n"
          ]
        }
      ]
    },
    {
      "cell_type": "markdown",
      "source": [
        "3. Ahora vemos el esquema para seleccionar los pares para el curso, alguien puede revisar y ver si hay algun problema?"
      ],
      "metadata": {
        "id": "hT3t-6SyKrqn"
      }
    },
    {
      "cell_type": "code",
      "source": [
        "#random.seed(1234)\n",
        "\n",
        "# cargamos sus nombres\n",
        "ustedes = [\"Sebastián\", \"Noe\", \"María\", \"Vicente\", \"Francisca\", \"Mateo\", \"Rosario\", \"Pablo\", \"Visnia\"]\n",
        "\n",
        "# Hacemos una baraja\n",
        "random.shuffle(ustedes)\n",
        "\n",
        "# Hacemos los pares\n",
        "pares = list(zip(ustedes[::2], ustedes[1::2]))\n",
        "\n",
        "# Ver resultados\n",
        "print(pares)\n"
      ],
      "metadata": {
        "colab": {
          "base_uri": "https://localhost:8080/"
        },
        "id": "aPFZVXJWKvx4",
        "outputId": "c3e05928-161c-4f8b-ee8d-d13d8299f41b"
      },
      "execution_count": 28,
      "outputs": [
        {
          "output_type": "stream",
          "name": "stdout",
          "text": [
            "[('Noe', 'Mateo'), ('Sebastián', 'Pablo'), ('Rosario', 'Francisca'), ('Vicente', 'María')]\n"
          ]
        }
      ]
    },
    {
      "cell_type": "markdown",
      "source": [
        "Mejoramos el código, con un condicional para que despues de shuffle, un alumno quede solo, y luego hacemos el resto de la selección por pares."
      ],
      "metadata": {
        "id": "M-V6yLX3M2Jr"
      }
    },
    {
      "cell_type": "code",
      "source": [
        "import random\n",
        "\n",
        "# random.seed(1234)\n",
        "\n",
        "# Lista de nombres\n",
        "ustedes = [\"Sebastián\", \"Noe\", \"María\", \"Vicente\", \"Francisca\", \"Mateo\", \"Rosario\", \"Pablo\", \"Visnia\"]\n",
        "\n",
        "# Mezclamos la lista\n",
        "random.shuffle(ustedes)\n",
        "\n",
        "# Verificamos si el número de elementos es impar\n",
        "if len(ustedes) % 2 == 1:\n",
        "    # Si es impar, sacamos UN estudiante\n",
        "    estudiante_solo = [ustedes[0]]\n",
        "    # Emparejamos el resto\n",
        "    resto_pares = list(zip(ustedes[1::2], ustedes[2::2]))\n",
        "else:\n",
        "    estudiante_solo = []\n",
        "    resto_pares = list(zip(ustedes[::2], ustedes[1::2]))\n",
        "\n",
        "# Mostramos los resultados\n",
        "if estudiante_solo:\n",
        "    print(\"Estudiante solo:\", estudiante_solo[0])\n",
        "\n",
        "print(\"\\nPares:\")\n",
        "for par in resto_pares:\n",
        "    print(par)\n"
      ],
      "metadata": {
        "colab": {
          "base_uri": "https://localhost:8080/"
        },
        "id": "jJ8c99muMSut",
        "outputId": "29a939d7-4fb4-4f87-962b-a97958dc9756"
      },
      "execution_count": 47,
      "outputs": [
        {
          "output_type": "stream",
          "name": "stdout",
          "text": [
            "Estudiante solo: Sebastián\n",
            "\n",
            "Pares:\n",
            "('Vicente', 'Visnia')\n",
            "('Mateo', 'Rosario')\n",
            "('Francisca', 'Pablo')\n",
            "('Noe', 'María')\n"
          ]
        }
      ]
    },
    {
      "cell_type": "markdown",
      "source": [],
      "metadata": {
        "id": "LQe1nKk9MSiP"
      }
    },
    {
      "cell_type": "code",
      "source": [],
      "metadata": {
        "id": "qKBAcWQzMR05"
      },
      "execution_count": null,
      "outputs": []
    }
  ]
}