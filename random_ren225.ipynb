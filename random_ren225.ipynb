{
  "nbformat": 4,
  "nbformat_minor": 0,
  "metadata": {
    "colab": {
      "provenance": [],
      "include_colab_link": true
    },
    "kernelspec": {
      "name": "python3",
      "display_name": "Python 3"
    },
    "language_info": {
      "name": "python"
    }
  },
  "cells": [
    {
      "cell_type": "markdown",
      "metadata": {
        "id": "view-in-github",
        "colab_type": "text"
      },
      "source": [
        "<a href=\"https://colab.research.google.com/github/Saryace/material-REN225/blob/main/random_ren225.ipynb\" target=\"_parent\"><img src=\"https://colab.research.google.com/assets/colab-badge.svg\" alt=\"Open In Colab\"/></a>"
      ]
    },
    {
      "cell_type": "markdown",
      "source": [
        "# Selección de pares para el curso REN 225-2025\n",
        "\n",
        "1. Vamos a ver algunos conceptos de random (aletoriedad) y funciones en Python para repasar.\n",
        "Primero importamos el módulo random, el cual tiene como argumentos (o parámetros) limite inferior y límite superior."
      ],
      "metadata": {
        "id": "QoFXDGEIFVba"
      }
    },
    {
      "cell_type": "code",
      "source": [
        "import random\n",
        "\n",
        "print(random.randint(1, 55))  # Que pasa cuado corremos este código?\n"
      ],
      "metadata": {
        "colab": {
          "base_uri": "https://localhost:8080/"
        },
        "id": "GXDXyZnkFkUz",
        "outputId": "3bd710ce-4d62-41d5-cb06-4e2b13a1cc7f"
      },
      "execution_count": 5,
      "outputs": [
        {
          "output_type": "stream",
          "name": "stdout",
          "text": [
            "29\n"
          ]
        }
      ]
    },
    {
      "cell_type": "markdown",
      "source": [
        "2. Ahora vamos a agregar la semilla, que nos permite hacer código reproducible"
      ],
      "metadata": {
        "id": "Pv59KzOQKHRC"
      }
    },
    {
      "cell_type": "code",
      "source": [
        "random.seed(1234)\n",
        "print(random.randint(1, 55))  # Que pasa cuado corremos este código?\n"
      ],
      "metadata": {
        "colab": {
          "base_uri": "https://localhost:8080/"
        },
        "outputId": "80bdd995-0e16-4b9d-fdb1-c733f353849d",
        "id": "Q9yCcu2bKOeY"
      },
      "execution_count": 4,
      "outputs": [
        {
          "output_type": "stream",
          "name": "stdout",
          "text": [
            "50\n"
          ]
        }
      ]
    },
    {
      "cell_type": "markdown",
      "source": [
        "3. Ahora vemos el esquema para seleccionar los pares para el curso, alguien puede revisar y ver si hay algun problema?"
      ],
      "metadata": {
        "id": "hT3t-6SyKrqn"
      }
    },
    {
      "cell_type": "code",
      "source": [
        "#random.seed(1234)\n",
        "\n",
        "# cargamos sus nombres\n",
        "ustedes = [\"Sebastián\", \"Noe\", \"María\", \"Vicente\", \"Francisca\", \"Mateo\", \"Rosario\", \"Pablo\", \"Visnia\"]\n",
        "\n",
        "# Hacemos una baraja\n",
        "random.shuffle(ustedes)\n",
        "\n",
        "# Hacemos los pares\n",
        "pares = list(zip(ustedes[::2], ustedes[1::2]))\n",
        "\n",
        "# Ver resultados\n",
        "print(pares)\n"
      ],
      "metadata": {
        "colab": {
          "base_uri": "https://localhost:8080/"
        },
        "id": "aPFZVXJWKvx4",
        "outputId": "5648a87e-4b0f-4af8-c7dd-3e5957940276"
      },
      "execution_count": null,
      "outputs": [
        {
          "output_type": "stream",
          "name": "stdout",
          "text": [
            "[('Pablo', 'Sebastián'), ('María', 'Vicente'), ('Francisca', 'Rosario'), ('Visnia', 'Noe')]\n"
          ]
        }
      ]
    },
    {
      "cell_type": "markdown",
      "source": [
        "Mejoramos el código, con un condicional para que despues de shuffle, el primer set de alumnos quede en un grupo de a 3, y luego hacemos el resto de la selección por pares."
      ],
      "metadata": {
        "id": "M-V6yLX3M2Jr"
      }
    },
    {
      "cell_type": "code",
      "source": [
        "import random\n",
        "\n",
        "# random.seed(1234)\n",
        "\n",
        "# Lista de nombres\n",
        "ustedes = [\"Sebastián\", \"Noe\", \"María\", \"Vicente\", \"Francisca\", \"Mateo\", \"Rosario\", \"Pablo\", \"Visnia\"]\n",
        "\n",
        "# Mezclamos la lista\n",
        "random.shuffle(ustedes)\n",
        "\n",
        "# Verificamos si el número de elementos es impar\n",
        "if len(ustedes) % 2 == 1:\n",
        "    # Si es impar, sacamos UN estudiante (no tres)\n",
        "    estudiante_solo = [ustedes[0]]\n",
        "    # Emparejamos el resto\n",
        "    resto_pares = list(zip(ustedes[1::2], ustedes[2::2]))\n",
        "else:\n",
        "    estudiante_solo = []\n",
        "    resto_pares = list(zip(ustedes[::2], ustedes[1::2]))\n",
        "\n",
        "# Mostramos los resultados\n",
        "if estudiante_solo:\n",
        "    print(\"Estudiante solo:\", estudiante_solo[0])\n",
        "\n",
        "print(\"\\nPares:\")\n",
        "for par in resto_pares:\n",
        "    print(par)\n"
      ],
      "metadata": {
        "colab": {
          "base_uri": "https://localhost:8080/"
        },
        "id": "jJ8c99muMSut",
        "outputId": "706028f3-b590-49ec-aad4-96a37e773949"
      },
      "execution_count": 1,
      "outputs": [
        {
          "output_type": "stream",
          "name": "stdout",
          "text": [
            "Estudiante solo: Visnia\n",
            "\n",
            "Pares:\n",
            "('Mateo', 'Sebastián')\n",
            "('Vicente', 'Noe')\n",
            "('Francisca', 'Pablo')\n",
            "('María', 'Rosario')\n"
          ]
        }
      ]
    },
    {
      "cell_type": "markdown",
      "source": [],
      "metadata": {
        "id": "LQe1nKk9MSiP"
      }
    },
    {
      "cell_type": "code",
      "source": [],
      "metadata": {
        "id": "qKBAcWQzMR05"
      },
      "execution_count": null,
      "outputs": []
    }
  ]
}